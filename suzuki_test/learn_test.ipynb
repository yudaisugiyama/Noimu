{
 "cells": [
  {
   "cell_type": "code",
   "execution_count": 1,
   "metadata": {},
   "outputs": [
    {
     "data": {
      "text/plain": [
       "('/home/umenty/dev/hackathon/Noimyu',\n",
       " ['/home/umenty/dev/hackathon/Noimyu/suzuki_test',\n",
       "  '/home/umenty/miniconda3/envs/geek2/lib/python39.zip',\n",
       "  '/home/umenty/miniconda3/envs/geek2/lib/python3.9',\n",
       "  '/home/umenty/miniconda3/envs/geek2/lib/python3.9/lib-dynload',\n",
       "  '',\n",
       "  '/home/umenty/miniconda3/envs/geek2/lib/python3.9/site-packages',\n",
       "  '/home/umenty/dev/hackathon/Noimyu'])"
      ]
     },
     "execution_count": 1,
     "metadata": {},
     "output_type": "execute_result"
    }
   ],
   "source": [
    "import sys, os\n",
    "from pathlib import Path\n",
    "sys.path.append(os.path.dirname(Path().resolve()))\n",
    "os.path.dirname(Path().resolve()), sys.path"
   ]
  },
  {
   "cell_type": "code",
   "execution_count": 2,
   "metadata": {},
   "outputs": [
    {
     "data": {
      "text/plain": [
       "<soundAI.rl_model.RLModel at 0x7f8ec8162190>"
      ]
     },
     "execution_count": 2,
     "metadata": {},
     "output_type": "execute_result"
    }
   ],
   "source": [
    "from soundAI.rl_model import RLModel\n",
    "model = RLModel([[\"delightful\", \"depressing\", \"hyper\"], [\"jazz\", \"rock\"]])\n",
    "model"
   ]
  },
  {
   "cell_type": "code",
   "execution_count": 3,
   "metadata": {},
   "outputs": [
    {
     "name": "stdout",
     "output_type": "stream",
     "text": [
      "category_onehot_list\n",
      "[((1, 0, 0), (0, 1, 0), (0, 0, 1)), ((1, 0), (0, 1))]\n",
      "all_input_combinations\n",
      "tensor([[1., 0., 0., 1., 0.],\n",
      "        [1., 0., 0., 0., 1.],\n",
      "        [0., 1., 0., 1., 0.],\n",
      "        [0., 1., 0., 0., 1.],\n",
      "        [0., 0., 1., 1., 0.],\n",
      "        [0., 0., 1., 0., 1.]])\n"
     ]
    },
    {
     "data": {
      "text/plain": [
       "tensor([[1., 0., 0., 1., 0.],\n",
       "        [1., 0., 0., 0., 1.],\n",
       "        [0., 1., 0., 1., 0.],\n",
       "        [0., 1., 0., 0., 1.],\n",
       "        [0., 0., 1., 1., 0.],\n",
       "        [0., 0., 1., 0., 1.]])"
      ]
     },
     "execution_count": 3,
     "metadata": {},
     "output_type": "execute_result"
    }
   ],
   "source": [
    "all_inputs = model.network.generate_all_input_combinations(debug=True)\n",
    "all_inputs"
   ]
  },
  {
   "cell_type": "code",
   "execution_count": 4,
   "metadata": {},
   "outputs": [
    {
     "name": "stdout",
     "output_type": "stream",
     "text": [
      "0\n",
      "1\n",
      "2\n",
      "3\n",
      "4\n",
      "5\n"
     ]
    }
   ],
   "source": [
    "for input in all_inputs:\n",
    "    print(\n",
    "        model.catman.prompt_to_action_id(\n",
    "            model.catman.combination_tensor_to_text(\n",
    "                input\n",
    "            ), model.network\n",
    "        )\n",
    "    )"
   ]
  },
  {
   "cell_type": "code",
   "execution_count": null,
   "metadata": {},
   "outputs": [],
   "source": []
  }
 ],
 "metadata": {
  "kernelspec": {
   "display_name": "geek2",
   "language": "python",
   "name": "python3"
  },
  "language_info": {
   "codemirror_mode": {
    "name": "ipython",
    "version": 3
   },
   "file_extension": ".py",
   "mimetype": "text/x-python",
   "name": "python",
   "nbconvert_exporter": "python",
   "pygments_lexer": "ipython3",
   "version": "3.9.17"
  },
  "orig_nbformat": 4
 },
 "nbformat": 4,
 "nbformat_minor": 2
}
